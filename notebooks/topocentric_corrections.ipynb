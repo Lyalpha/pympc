{
 "cells": [
  {
   "cell_type": "markdown",
   "metadata": {
    "collapsed": true
   },
   "source": [
    "# Checking the performance of `pympc` topocentric corrections"
   ]
  },
  {
   "cell_type": "markdown",
   "source": [
    "Here we use a large search cone to find Minor Planet Center (MPC) positions of minor bodies -\n",
    "retrieving both their geocentric and topocentric positions.\n",
    "\n",
    "We compare this search cone to results from `pympc` in order to see how well the topocentric\n",
    "corrections are working.\n",
    "\n",
    "In addition, the epoch chosen for this comparison (Mar 04 2022) is significantly different from\n",
    "xephem database epoch that was used (Jan 20 2022). This allows us to additionally compare the\n",
    "degradation of the positional accuracies with respect to the ideal case shown in\n",
    "`position_accuracy.ipynb`.\n",
    "\n",
    "\n",
    ">\n",
    "> **TL;DR**\n",
    "The topocentric corrections essentially recover the positional accuracy with MPC when\n",
    "comparing geocentric positions.\n",
    "There is only a factor ~2 degradation in the accuracy of the positions compared to the idealised\n",
    "epoch case.\n",
    "## Setup"
   ],
   "metadata": {
    "collapsed": false
   }
  },
  {
   "cell_type": "code",
   "execution_count": 1,
   "outputs": [],
   "source": [
    "import astropy.units as u\n",
    "import matplotlib.pyplot as plt\n",
    "import numpy as np\n",
    "from astropy.coordinates import SkyCoord\n",
    "from astropy.table import Table, join\n",
    "from astropy.time import Time\n",
    "\n",
    "import pympc"
   ],
   "metadata": {
    "collapsed": false,
    "ExecuteTime": {
     "end_time": "2024-08-25T18:37:11.749380464Z",
     "start_time": "2024-08-25T18:37:10.938650100Z"
    }
   }
  },
  {
   "cell_type": "markdown",
   "source": [
    "### Update catalogue (done on 2024-08-25)"
   ],
   "metadata": {
    "collapsed": false
   }
  },
  {
   "cell_type": "code",
   "execution_count": null,
   "outputs": [],
   "source": [
    "# pympc.update_catalogue(cat_dir=\".\")"
   ],
   "metadata": {
    "collapsed": false
   }
  },
  {
   "cell_type": "code",
   "outputs": [
    {
     "name": "stdout",
     "output_type": "stream",
     "text": [
      "Reference epoch is 2024-10-16 23:58:50.849\n"
     ]
    }
   ],
   "source": [
    "# Get the reference epoch of the downloaded data\n",
    "with open(\"./mpcorb_xephem.csv\") as f:\n",
    "    line = f.readline()\n",
    "epoch_decimalyear = line.split(\",\")[9]\n",
    "print(f\"Reference epoch is {Time(epoch_decimalyear, format='decimalyear').iso}\")"
   ],
   "metadata": {
    "collapsed": false,
    "ExecuteTime": {
     "end_time": "2024-08-25T18:37:12.694464497Z",
     "start_time": "2024-08-25T18:37:12.651239338Z"
    }
   },
   "execution_count": 2
  },
  {
   "cell_type": "markdown",
   "source": [
    "### Load Minor Planet Center's results\n",
    "\n",
    "A 300-arcminute centred on ra=dec=0 was search via the [MPChecker](https://www.minorplanetcenter.net/cgi-bin/checkmp.cgi)\n",
    "service on, at midnight nearest the reference epoch with Observatory Code 500 (i.e. geocentric). After some minor manually cleanup of the catalogues, it was stored as `.txt` files in this directory.\n",
    "\n",
    "First retreive the geocentric results (Observatory Code 500):"
   ],
   "metadata": {
    "collapsed": false
   }
  },
  {
   "cell_type": "code",
   "execution_count": 3,
   "outputs": [],
   "source": [
    "mpc_geo_tbl = Table.read(\"minor_planet_center_results_geo.txt\",\n",
    "                         format=\"ascii.fixed_width\",\n",
    "                         col_starts=(9,25, 36, 47),\n",
    "                         col_ends=(24,34, 45, 50)\n",
    "                         )\n",
    "mpc_geo_tbl[\"mpc_geo_coords\"] = SkyCoord(ra=mpc_geo_tbl[\"R.A.\"], dec=mpc_geo_tbl[\"Decl.\"], unit=(u.hourangle, u.deg))\n",
    "# Need to have same column name as pympc table to join tables\n",
    "mpc_geo_tbl.rename_column(\"designation\", \"name\")\n",
    "# Remove any with any masked values\n",
    "mpc_geo_tbl.remove_rows(np.where([c.data for c in mpc_geo_tbl.mask.itercols()])[-1])"
   ],
   "metadata": {
    "collapsed": false,
    "ExecuteTime": {
     "end_time": "2024-08-25T18:37:19.403688171Z",
     "start_time": "2024-08-25T18:37:16.967160938Z"
    }
   }
  },
  {
   "cell_type": "markdown",
   "source": [
    "And then topocentric results using the `_current.txt` file (Observatory Code 950; this was fetched in `position_accuracy.ipynb`):"
   ],
   "metadata": {
    "collapsed": false
   }
  },
  {
   "cell_type": "code",
   "execution_count": 5,
   "outputs": [],
   "source": [
    "mpc_topo_tbl = Table.read(\"minor_planet_center_results_current.txt\",\n",
    "                         format=\"ascii.fixed_width\",\n",
    "                         col_starts=(9,25, 36, 47),\n",
    "                         col_ends=(24,34, 45, 50)\n",
    "                         )\n",
    "mpc_topo_tbl[\"mpc_topo_coords\"] = SkyCoord(ra=mpc_topo_tbl[\"R.A.\"], dec=mpc_topo_tbl[\"Decl.\"], unit=(u.hourangle, u.deg))\n",
    "# Need to have same column name as pympc table to join tables\n",
    "mpc_topo_tbl.rename_column(\"designation\", \"name\")\n",
    "# Remove any with any masked values\n",
    "mpc_topo_tbl.remove_rows(np.where([c.data for c in mpc_topo_tbl.mask.itercols()])[-1])"
   ],
   "metadata": {
    "collapsed": false,
    "ExecuteTime": {
     "end_time": "2024-08-25T18:37:28.886583220Z",
     "start_time": "2024-08-25T18:37:26.457908563Z"
    }
   }
  },
  {
   "cell_type": "markdown",
   "source": [
    "### Perform the same search with `pympc`\n",
    "\n",
    "Define the search parameters used in the MPC cone search:"
   ],
   "metadata": {
    "collapsed": false
   }
  },
  {
   "cell_type": "code",
   "execution_count": 6,
   "outputs": [],
   "source": [
    "epoch = Time(\"2024-10-17\").mjd\n",
    "search_radius = 300 * u.arcmin\n",
    "ra = 0 * u.deg\n",
    "dec = 0 * u.deg\n",
    "max_mag = 24"
   ],
   "metadata": {
    "collapsed": false,
    "ExecuteTime": {
     "end_time": "2024-08-25T18:37:45.921816293Z",
     "start_time": "2024-08-25T18:37:45.825614372Z"
    }
   }
  },
  {
   "cell_type": "markdown",
   "source": [
    "Run the `pympc` searches:"
   ],
   "metadata": {
    "collapsed": false
   }
  },
  {
   "cell_type": "code",
   "execution_count": 7,
   "outputs": [],
   "source": [
    "# Geocentric\n",
    "obs_code = 500\n",
    "pympc_geo_tbl = pympc.minor_planet_check(ra, dec, epoch, search_radius, max_mag=max_mag, observatory=obs_code)\n",
    "pympc_geo_tbl[\"pympc_geo_coords\"] = SkyCoord(ra=pympc_geo_tbl[\"ra\"], dec=pympc_geo_tbl[\"dec\"], unit=(u.deg, u.deg))\n",
    "del pympc_geo_tbl[\"xephem_str\"]\n",
    "\n",
    "#Topocentric\n",
    "obs_code = 950\n",
    "pympc_topo_tbl = pympc.minor_planet_check(ra, dec, epoch, search_radius, max_mag=max_mag, observatory=obs_code)\n",
    "pympc_topo_tbl[\"pympc_topo_coords\"] = SkyCoord(ra=pympc_topo_tbl[\"ra\"], dec=pympc_topo_tbl[\"dec\"], unit=(u.deg, u.deg))\n",
    "del pympc_topo_tbl[\"xephem_str\"]"
   ],
   "metadata": {
    "collapsed": false,
    "ExecuteTime": {
     "end_time": "2024-08-25T18:38:20.967272231Z",
     "start_time": "2024-08-25T18:37:50.792650974Z"
    }
   }
  },
  {
   "cell_type": "markdown",
   "source": [
    "### Compare the results"
   ],
   "metadata": {
    "collapsed": false
   }
  },
  {
   "cell_type": "code",
   "execution_count": 8,
   "outputs": [],
   "source": [
    "# Join all tables, so we can easily access the coordinates from each\n",
    "joined_tbl = join(pympc_geo_tbl, pympc_topo_tbl, keys=\"name\")\n",
    "joined_tbl = join(joined_tbl, mpc_geo_tbl, keys=\"name\")\n",
    "joined_tbl = join(joined_tbl, mpc_topo_tbl, keys=\"name\")"
   ],
   "metadata": {
    "collapsed": false,
    "ExecuteTime": {
     "end_time": "2024-08-25T18:38:21.044874588Z",
     "start_time": "2024-08-25T18:38:20.972260132Z"
    }
   }
  },
  {
   "cell_type": "code",
   "execution_count": 9,
   "outputs": [
    {
     "name": "stdout",
     "output_type": "stream",
     "text": [
      "99.8% of the MPC(geo) results are within 4 arcsec of pympc(geo) positions\n",
      "0.61 arcsec is the median separation\n",
      "85.0% of the MPC(topo) results are within 4 arcsec of pympc(geo) positions\n",
      "2.63 arcsec is the median separation\n",
      "99.8% of the MPC(topo) results are within 4 arcsec of pympc(topo) positions\n",
      "0.59 arcsec is the median separation\n"
     ]
    },
    {
     "data": {
      "text/plain": "<Figure size 432x288 with 1 Axes>",
      "image/png": "[encoded data removed]"
     },
     "metadata": {
      "needs_background": "light"
     },
     "output_type": "display_data"
    }
   ],
   "source": [
    "for cmp in [(\"geo\", \"geo\"), (\"topo\", \"geo\"), (\"topo\", \"topo\")]:\n",
    "    sep = joined_tbl[f\"mpc_{cmp[0]}_coords\"].separation(joined_tbl[f\"pympc_{cmp[1]}_coords\"]).to(u.arcsec)\n",
    "    _ = plt.hist(sep.value, bins=np.linspace(0, 10, 100), histtype=\"step\", lw=2, label=f\"MPC({cmp[0]}) -> pympc({cmp[1]})\")\n",
    "    print(f\"{100*np.sum(sep < 4 * u.arcsec)/len(sep):.1f}% of the MPC({cmp[0]}) results are within 4 arcsec of pympc({cmp[1]}) positions\")\n",
    "    print(f\"{np.median(sep):.2f} is the median separation\")\n",
    "plt.legend()\n",
    "plt.xlabel(\"Separation (arcsec)\")\n",
    "plt.ylabel(\"N\")\n",
    "plt.savefig(\"geo_topo_comparison.png\")"
   ],
   "metadata": {
    "collapsed": false,
    "ExecuteTime": {
     "end_time": "2024-08-25T18:38:24.509545606Z",
     "start_time": "2024-08-25T18:38:24.039422553Z"
    }
   }
  },
  {
   "cell_type": "markdown",
   "source": [
    "The MPC(topo) -> pympc(topo) results essentially recover the performance when doing the equivalent geocentric comparison, indicating\n",
    "the topocentric corrections are working as intended."
   ],
   "metadata": {
    "collapsed": false
   }
  }
 ],
 "metadata": {
  "kernelspec": {
   "display_name": "Python 3",
   "language": "python",
   "name": "python3"
  },
  "language_info": {
   "codemirror_mode": {
    "name": "ipython",
    "version": 2
   },
   "file_extension": ".py",
   "mimetype": "text/x-python",
   "name": "python",
   "nbconvert_exporter": "python",
   "pygments_lexer": "ipython2",
   "version": "2.7.6"
  }
 },
 "nbformat": 4,
 "nbformat_minor": 0
}
