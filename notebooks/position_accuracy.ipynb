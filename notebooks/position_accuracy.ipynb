{
 "cells": [
  {
   "cell_type": "markdown",
   "metadata": {
    "collapsed": true
   },
   "source": [
    "# Checking the performance of `pympc` positions vs the Minor Planet Center (MPC)"
   ]
  },
  {
   "cell_type": "markdown",
   "source": [
    "Here we use a large search cone to find accurate Minor Planet Center (MPC) positions of minor bodies and compare them to `pympc` outputs., whilst varying the query epoch to simulate increasing outdated local catalogue of ephemerides.\n",
    "\n",
    "> **TL;DR**\n",
    "> For timescales within a month or so of the reference epoch of the local catalogue, ~all the minor bodies returned by Minor Planet Center are matched within a few arcseconds by `pympc`. Beyond 3 months there is a significant degradation of matching performance.\n",
    "\n"
   ],
   "metadata": {
    "collapsed": false
   }
  },
  {
   "cell_type": "markdown",
   "source": [
    "### Query epoch vs. Reference epoch\n",
    "\n",
    "We will test scenarios involving increasing separation of the epochs between when we are requesting `pympc` position of objects (*query epoch*) and when the orbital elements are computed for in the local ephemeris catalogue (*reference epoch*). One is an idealised case where the epochs are the same, as well as separtions of 1, 3 and 6 months. Given the Minor Planet Center updates their orbital catalogue reference epochs on roughly monthly cadence, separations of less than one month is typical for real-time work, but the 3 and 6 month separations give an idea of degredation when trying to match historical (or far future) positions with respect to the reference epoch."
   ],
   "metadata": {
    "collapsed": false
   }
  },
  {
   "cell_type": "markdown",
   "source": [
    "## Setup"
   ],
   "metadata": {
    "collapsed": false
   }
  },
  {
   "cell_type": "code",
   "execution_count": 1,
   "outputs": [],
   "source": [
    "import astropy.units as u\n",
    "import matplotlib.pyplot as plt\n",
    "import numpy as np\n",
    "from astropy.coordinates import SkyCoord\n",
    "from astropy.table import Table, join\n",
    "from astropy.time import Time\n",
    "\n",
    "import pympc"
   ],
   "metadata": {
    "collapsed": false
   }
  },
  {
   "cell_type": "markdown",
   "source": [
    "### Update catalogue (done on 2023-07-25)\n",
    "\n",
    "Here we update once the `pympc` local catalogue, which fixes our reference epoch"
   ],
   "metadata": {
    "collapsed": false
   }
  },
  {
   "cell_type": "code",
   "execution_count": 2,
   "outputs": [],
   "source": [
    "# pympc.update_catalogue(cat_dir=\".\")"
   ],
   "metadata": {
    "collapsed": false
   }
  },
  {
   "cell_type": "code",
   "execution_count": 3,
   "outputs": [
    {
     "name": "stdout",
     "output_type": "stream",
     "text": [
      "Reference epoch is 2023-02-24 23:59:59.952\n"
     ]
    }
   ],
   "source": [
    "# Get the reference epoch of the downloaded data\n",
    "with open(\"./mpcorb_xephem.csv\") as f:\n",
    "    line = f.readline()\n",
    "epoch_decimalyear = line.split(\",\")[9]\n",
    "print(f\"Reference epoch is {Time(epoch_decimalyear, format='decimalyear').iso}\")"
   ],
   "metadata": {
    "collapsed": false
   }
  },
  {
   "cell_type": "markdown",
   "source": [
    "#### Search and store Minor Planet Center's online results\n",
    "\n",
    "A large 300-arcminute cone centred on ra=dec=0 was searched via the [MPChecker](https://www.minorplanetcenter.net/cgi-bin/checkmp.cgi) service using the reference epoch date (2023-02-25) and plus 1, 3, and 6 months, and observatory code 950. (The searches were performed on 2023-07-25.) After some minor manual cleanup of the catalogues, they have been stored as `.txt` files in this directory.\n",
    "\n",
    "Function to load the MPCenter results:"
   ],
   "metadata": {
    "collapsed": false
   }
  },
  {
   "cell_type": "code",
   "execution_count": 4,
   "outputs": [],
   "source": [
    "def read_mpc_results(filename):\n",
    "    mpc_tbl_ = Table.read(\n",
    "        filename,\n",
    "        format=\"ascii.fixed_width\",\n",
    "        col_starts=(9,25, 36, 47),\n",
    "        col_ends=(24,34, 45, 50)\n",
    "    )\n",
    "    mpc_tbl_[\"mpc_coords\"] = SkyCoord(ra=mpc_tbl_[\"R.A.\"], dec=mpc_tbl_[\"Decl.\"], unit=(u.hourangle, u.deg))\n",
    "    # Need to have same column name as pympc table to join tables\n",
    "    mpc_tbl_.rename_column(\"designation\", \"name\")\n",
    "    # Remove any with any masked values\n",
    "    mpc_tbl_.remove_rows(np.where([c.data for c in mpc_tbl_.mask.itercols()])[-1])\n",
    "    return mpc_tbl_"
   ],
   "metadata": {
    "collapsed": false
   }
  },
  {
   "cell_type": "markdown",
   "source": [
    "#### Perform the same searches with `pympc` offline\n",
    "\n",
    "A function to call `pympc` at a given epoch"
   ],
   "metadata": {
    "collapsed": false
   }
  },
  {
   "cell_type": "code",
   "execution_count": 5,
   "outputs": [],
   "source": [
    "def get_pympc_results(epoch):\n",
    "    search_radius = 300 * u.arcmin\n",
    "    ra = 0 * u.deg\n",
    "    dec = 0 * u.deg\n",
    "    max_mag = 24\n",
    "    obs_code = 950\n",
    "    pympc_tbl_ = pympc.minor_planet_check(ra, dec, epoch, search_radius, xephem_filepath=\"./mpcorb_xephem.csv\", max_mag=max_mag, observatory=obs_code)\n",
    "    pympc_tbl_[\"pympc_coords\"] = SkyCoord(ra=pympc_tbl_[\"ra\"], dec=pympc_tbl_[\"dec\"], unit=(u.deg, u.deg))\n",
    "    del pympc_tbl_[\"xephem_str\"]\n",
    "    return pympc_tbl_"
   ],
   "metadata": {
    "collapsed": false
   }
  },
  {
   "cell_type": "markdown",
   "source": [
    "#### Compare the results"
   ],
   "metadata": {
    "collapsed": false
   }
  },
  {
   "cell_type": "code",
   "execution_count": 6,
   "outputs": [],
   "source": [
    "epoch_names = [\n",
    "    \"None\",\n",
    "    \"+1 month\",\n",
    "    \"+3 month\",\n",
    "    \"+6 month\",\n",
    "]\n",
    "mpc_result_filepaths = [\n",
    "    \"minor_planet_center_results_current.txt\",\n",
    "    \"minor_planet_center_results_plus1month.txt\",\n",
    "    \"minor_planet_center_results_plus3month.txt\",\n",
    "    \"minor_planet_center_results_plus6month.txt\",\n",
    "]\n",
    "pympc_epochs = [\n",
    "    Time(\"2023-02-25\").mjd,\n",
    "    Time(\"2023-03-25\").mjd,\n",
    "    Time(\"2023-05-25\").mjd,\n",
    "    Time(\"2023-08-25\").mjd,\n",
    "]\n",
    "seps = []\n",
    "for epoch_name, mpc_result_filepath, pympc_epoch in zip(epoch_names, mpc_result_filepaths, pympc_epochs):\n",
    "    mpc_tbl = read_mpc_results(mpc_result_filepath)\n",
    "    pympc_tbl = get_pympc_results(pympc_epoch)\n",
    "    # Join the tables so that we can easily access the coordinates from each\n",
    "    joined_tbl = join(pympc_tbl, mpc_tbl, keys=\"name\")\n",
    "    sep = joined_tbl[f\"mpc_coords\"].separation(joined_tbl[f\"pympc_coords\"]).to(u.arcsec)\n",
    "    seps.append(sep)"
   ],
   "metadata": {
    "collapsed": false
   }
  },
  {
   "cell_type": "code",
   "execution_count": 7,
   "outputs": [
    {
     "name": "stdout",
     "output_type": "stream",
     "text": [
      "Epoch separation: None\n",
      "\t99.4% of the MPC results are within 4 arcsec of pympc positions\n",
      "\t1.29 arcsec is the median separation\n",
      "-------------------------------------------------------------------------------\n",
      "Epoch separation: +1 month\n",
      "\t99.0% of the MPC results are within 4 arcsec of pympc positions\n",
      "\t1.03 arcsec is the median separation\n",
      "-------------------------------------------------------------------------------\n",
      "Epoch separation: +3 month\n",
      "\t99.7% of the MPC results are within 4 arcsec of pympc positions\n",
      "\t1.34 arcsec is the median separation\n",
      "-------------------------------------------------------------------------------\n",
      "Epoch separation: +6 month\n",
      "\t2.4% of the MPC results are within 4 arcsec of pympc positions\n",
      "\t15.63 arcsec is the median separation\n",
      "-------------------------------------------------------------------------------\n"
     ]
    },
    {
     "data": {
      "text/plain": "<Figure size 432x288 with 1 Axes>",
      "image/png": "[encoded data removed]"
     },
     "metadata": {
      "needs_background": "light"
     },
     "output_type": "display_data"
    }
   ],
   "source": [
    "for epoch_name, sep in zip (epoch_names, seps):\n",
    "    _ = plt.hist(sep.value, bins=np.linspace(0, 10, 100), histtype=\"step\", lw=2.5, label=f\"Epoch separation = {epoch_name}\")\n",
    "    print(f\"Epoch separation: {epoch_name}\")\n",
    "    print(f\"\\t{100*np.sum(sep < 4 * u.arcsec)/len(sep):.1f}% of the MPC results are within 4 arcsec of pympc positions\")\n",
    "    print(f\"\\t{np.median(sep):.2f} is the median separation\")\n",
    "    print(\"-\"*79)\n",
    "\n",
    "plt.legend(frameon=True)\n",
    "plt.xlabel(\"Separation [arcsec]\", size=16)\n",
    "plt.ylabel(\"N\", size=16)\n",
    "plt.title(\"Positional accuracy of pympc vs. MPC\", size=16)\n",
    "plt.savefig(\"position_accuracy.png\")"
   ],
   "metadata": {
    "collapsed": false
   }
  }
 ],
 "metadata": {
  "kernelspec": {
   "display_name": "Python 3",
   "language": "python",
   "name": "python3"
  },
  "language_info": {
   "codemirror_mode": {
    "name": "ipython",
    "version": 2
   },
   "file_extension": ".py",
   "mimetype": "text/x-python",
   "name": "python",
   "nbconvert_exporter": "python",
   "pygments_lexer": "ipython2",
   "version": "2.7.6"
  }
 },
 "nbformat": 4,
 "nbformat_minor": 0
}
